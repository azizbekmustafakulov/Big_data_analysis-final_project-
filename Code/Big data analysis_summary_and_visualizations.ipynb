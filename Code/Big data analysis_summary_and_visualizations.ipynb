{
 "cells": [
  {
   "cell_type": "code",
   "execution_count": null,
   "id": "6967ba44",
   "metadata": {},
   "outputs": [],
   "source": [
    "import pandas as pd\n",
    "import matplotlib.pyplot as plt\n",
    "import openpyxl\n",
    "import seaborn as sns\n",
    "\n",
    "\n",
    "df = pd.read_excel(\"/home/azizbek/Humblebee/Problem solving/Youth_Unemployment_Full_Expanded_SK_2018_2024 (1).xlsx\")\n",
    "\n",
    "\n",
    "df.fillna(method='ffill', inplace=True)\n",
    "\n",
    "# Add derived column: Employment Gap (LF Participation - Employment Rate)\n",
    "df[\"Employment Gap [%]\"] = df[\"Labor Force Participation [%]\"] - df[\"Employment Rate (18–35) [%]\"]\n",
    "\n",
    "# Add derived column: Underutilization Rate (Unemployment + Underemployment)\n",
    "df[\"Underutilization Rate [%]\"] = df[\"Unemployment Rate (18–35) [%]\"] + df[\"Underemployment Rate [%]\"]\n",
    "\n",
    "# ----------------------------------\n",
    "# Summary Statistics\n",
    "# ----------------------------------\n",
    "\n",
    "print(\"Summary of Youth Unemployment Dataset:\")\n",
    "print(df.describe())\n",
    "\n",
    "df.to_csv(\"youth_unemployment_transformed.csv\", index=False)"
   ]
  },
  {
   "cell_type": "markdown",
   "id": "2e4c4fe8",
   "metadata": {},
   "source": [
    "### Youth labor Market Trends in South Korea (2018-2024) (Viz 1)"
   ]
  },
  {
   "cell_type": "code",
   "execution_count": null,
   "id": "1847ba50",
   "metadata": {},
   "outputs": [],
   "source": [
    "plt.figure(figsize=(10, 6))\n",
    "plt.plot(df[\"Year\"], df[\"Unemployment Rate (18–35) [%]\"], marker='o', label=\"Unemployment Rate\")\n",
    "plt.plot(df[\"Year\"], df[\"Employment Rate (18–35) [%]\"], marker='o', label=\"Employment Rate\")\n",
    "plt.plot(df[\"Year\"], df[\"Labor Force Participation [%]\"], marker='o', label=\"Labor Force Participation\")\n",
    "plt.title(\"Youth Labor Market Trends in South Korea (2018–2024)\")\n",
    "plt.xlabel(\"Year\")\n",
    "plt.ylabel(\"Percentage\")\n",
    "plt.legend()\n",
    "plt.grid(True)\n",
    "plt.tight_layout()\n",
    "plt.savefig(\"fig_labor_trends.png\")\n",
    "plt.show()\n"
   ]
  },
  {
   "cell_type": "markdown",
   "id": "59aed242",
   "metadata": {},
   "source": [
    "### Youth NEET Rate (Not in Employment, Education or training)"
   ]
  },
  {
   "cell_type": "code",
   "execution_count": null,
   "id": "8a01e937",
   "metadata": {},
   "outputs": [],
   "source": [
    "# NEET Rate\n",
    "plt.figure(figsize=(8, 5))\n",
    "plt.bar(df[\"Year\"], df[\"NEET Rate (15–29) [%]\"], color='salmon')\n",
    "plt.title(\"Youth NEET Rate (Not in Employment, Education or Training)\")\n",
    "plt.xlabel(\"Year\")\n",
    "plt.ylabel(\"NEET Rate (%)\")\n",
    "plt.grid(axis='y')\n",
    "plt.tight_layout()\n",
    "plt.savefig(\"fig_neet_rate.png\")\n",
    "plt.show()"
   ]
  },
  {
   "cell_type": "markdown",
   "id": "9526b4f3",
   "metadata": {},
   "source": [
    "### Youth NEET Rate Over Time - Area Chart"
   ]
  },
  {
   "cell_type": "code",
   "execution_count": null,
   "id": "4172cf77",
   "metadata": {},
   "outputs": [],
   "source": [
    "x = df[\"Year\"].values.astype(float)\n",
    "y = df[\"NEET Rate (15–29) [%]\"].values.astype(float)\n",
    "\n",
    "plt.figure()\n",
    "plt.fill_between(x, y, color=\"orange\", alpha=0.5)\n",
    "plt.plot(x, y, color=\"darkorange\", marker=\"o\")\n",
    "plt.title(\"Youth NEET Rate Over Time - Area Chart\")\n",
    "plt.xlabel(\"Year\")\n",
    "plt.ylabel(\"NEET Rate (%)\")\n",
    "plt.tight_layout()\n",
    "# plt.savefig(\"chart3_neet_area.png\")"
   ]
  },
  {
   "cell_type": "markdown",
   "id": "b06032e5",
   "metadata": {},
   "source": [
    "### Youth Labor Underutilization vs Unemployment"
   ]
  },
  {
   "cell_type": "code",
   "execution_count": null,
   "id": "4dd2f8a1",
   "metadata": {},
   "outputs": [],
   "source": [
    "# Underutilization vs Unemployment\n",
    "plt.figure(figsize=(10, 5))\n",
    "plt.plot(df[\"Year\"], df[\"Underutilization Rate [%]\"], marker='o', label=\"Underutilization\")\n",
    "plt.plot(df[\"Year\"], df[\"Unemployment Rate (18–35) [%]\"], marker='x', linestyle='--', label=\"Unemployment Only\")\n",
    "plt.title(\"Youth Labor Underutilization vs Unemployment\")\n",
    "plt.xlabel(\"Year\")\n",
    "plt.ylabel(\"Percentage\")\n",
    "plt.legend()\n",
    "plt.grid(True)\n",
    "plt.tight_layout()\n",
    "plt.savefig(\"fig_underutilization.png\")\n",
    "plt.show()"
   ]
  },
  {
   "cell_type": "markdown",
   "id": "acaa0331",
   "metadata": {},
   "source": [
    "### Youth Unemployment Rate (18-35) - Bar Chart"
   ]
  },
  {
   "cell_type": "code",
   "execution_count": null,
   "id": "b2eb28ff",
   "metadata": {},
   "outputs": [],
   "source": [
    "plt.figure()\n",
    "plt.bar(df[\"Year\"], df[\"Unemployment Rate (18–35) [%]\"], color=plt.cm.Reds([0.3 + i*0.1 for i in range(len(df))]))\n",
    "plt.title(\"Youth Unemployment Rate (18–35) - Bar Chart\")\n",
    "plt.xlabel(\"Year\")\n",
    "plt.ylabel(\"Unemployment Rate (%)\")\n",
    "plt.tight_layout()\n",
    "# plt.savefig(\"chart1_youth_unemployment_rate.png\")"
   ]
  },
  {
   "cell_type": "markdown",
   "id": "96bdd8c5",
   "metadata": {},
   "source": [
    "### Youth Unemployment Rate (ages 15-24), 2018-2024"
   ]
  },
  {
   "cell_type": "code",
   "execution_count": null,
   "id": "cc981f42",
   "metadata": {},
   "outputs": [],
   "source": [
    "years = [2018, 2019, 2020, 2021, 2022, 2023, 2024]\n",
    "df_comp = pd.DataFrame({\n",
    "    \"Year\": years,\n",
    "    \"South Korea\": [8.0, 6.5, 9.0, 7.5, 6.0, 5.5, 5.8],\n",
    "    \"China\": [10.5, 10.2, 12.0, 13.1, 14.2, 15.0, 14.5],\n",
    "    \"Japan\": [4.5, 4.3, 5.0, 5.2, 4.8, 4.6, 4.7],\n",
    "    \"United States\": [9.0, 8.8, 14.5, 12.0, 10.0, 9.5, 9.0]\n",
    "})\n",
    "# Numbers are taken from the summaries of other raw datasets and inserted here.\n",
    "plt.figure()\n",
    "for country in [\"South Korea\", \"China\", \"Japan\", \"United States\"]:\n",
    "    plt.plot(df_comp[\"Year\"], df_comp[country], marker=\"o\", label=country)\n",
    "plt.title(\"Youth Unemployment Rate (ages ~15–24), 2018–2024\")\n",
    "plt.xlabel(\"Year\")\n",
    "plt.ylabel(\"Youth Unemployment Rate (%)\")\n",
    "plt.legend()\n",
    "plt.grid(True)\n",
    "plt.tight_layout()\n",
    "# plt.savefig(\"chart2_international_comparison.png\")"
   ]
  },
  {
   "cell_type": "markdown",
   "id": "6518a0ce",
   "metadata": {},
   "source": [
    "### Share of Youth Not in Eployment, Education or Training "
   ]
  },
  {
   "cell_type": "code",
   "execution_count": null,
   "id": "2026ba98",
   "metadata": {},
   "outputs": [],
   "source": [
    "plt.figure()\n",
    "countries = [\"S. Korea\", \"United States\", \"Japan\"]\n",
    "neet_vals = [21, 13, 4]\n",
    "colors = [\"orange\", \"magenta\", \"green\"]\n",
    "\n",
    "plt.bar(countries, neet_vals, color=colors)\n",
    "for i, val in enumerate(neet_vals):\n",
    "    plt.text(i, val + 0.5, f\"{val}%\", ha='center')\n",
    "plt.title(\"Share of Youth Not in Employment, Education or Training\")\n",
    "plt.ylabel(\"NEET Rate (%)\")\n",
    "plt.tight_layout()\n",
    "# plt.savefig(\"chart4_neet_comparison.png\")"
   ]
  },
  {
   "cell_type": "markdown",
   "id": "5b20e2aa",
   "metadata": {},
   "source": [
    "### Share of 15-29 Employees in Non-Regular Jobs (Korea,2021)"
   ]
  },
  {
   "cell_type": "code",
   "execution_count": null,
   "id": "fbe6b022",
   "metadata": {},
   "outputs": [],
   "source": [
    "plt.figure()\n",
    "plt.bar([\"Male\", \"Female\"], [39, 45], color=[\"blue\", \"red\"])\n",
    "plt.title(\"Share of 15–29 Employees in Non-Regular Jobs (Korea, 2021)\")\n",
    "plt.ylabel(\"Employment (% of young employees)\")\n",
    "plt.text(0, 40, \"39%\", ha='center', color=\"white\", weight=\"bold\")\n",
    "plt.text(1, 46, \"45%\", ha='center', color=\"white\", weight=\"bold\")\n",
    "plt.tight_layout()\n",
    "# plt.savefig(\"chart5_non_regular_gender.png\")"
   ]
  },
  {
   "cell_type": "markdown",
   "id": "c7af86d4",
   "metadata": {},
   "source": [
    "### Population aged 18-35 in South Korea"
   ]
  },
  {
   "cell_type": "code",
   "execution_count": null,
   "id": "7f573cce",
   "metadata": {},
   "outputs": [],
   "source": [
    "plt.figure()\n",
    "plt.plot(df[\"Year\"], df[\"Population (18–35) [thousands]\"], marker=\"o\", color=\"gold\")\n",
    "plt.title(\"Population Aged 18–35 in South Korea\")\n",
    "plt.xlabel(\"Year\")\n",
    "plt.ylabel(\"Population (thousands)\")\n",
    "plt.grid(True)\n",
    "plt.tight_layout()\n",
    "# plt.savefig(\"chart6_population_trend.png\")"
   ]
  },
  {
   "cell_type": "markdown",
   "id": "0af50e79",
   "metadata": {},
   "source": [
    "### Youth Employment by sector"
   ]
  },
  {
   "cell_type": "code",
   "execution_count": null,
   "id": "9ddc44c6",
   "metadata": {},
   "outputs": [],
   "source": [
    "plt.figure()\n",
    "plt.bar(df[\"Year\"], df[\"Youth in Services Sector [%]\"], label=\"Services\", color=\"skyblue\")\n",
    "plt.bar(\n",
    "    df[\"Year\"],\n",
    "    df[\"Youth in Manufacturing Sector [%]\"],\n",
    "    bottom=df[\"Youth in Services Sector [%]\"],\n",
    "    label=\"Manufacturing\",\n",
    "    color=\"gray\"\n",
    ")\n",
    "plt.title(\"Youth Employment by Sector - Stacked Bar Chart\")\n",
    "plt.xlabel(\"Year\")\n",
    "plt.ylabel(\"Share of Employment (%)\")\n",
    "plt.legend()\n",
    "plt.tight_layout()\n",
    "# plt.savefig(\"chart7_sector_stacked.png\")"
   ]
  },
  {
   "cell_type": "markdown",
   "id": "2957e185",
   "metadata": {},
   "source": [
    "### Non-Regular Employment Rate "
   ]
  },
  {
   "cell_type": "code",
   "execution_count": null,
   "id": "ae48cf11",
   "metadata": {},
   "outputs": [],
   "source": [
    "plt.figure()\n",
    "sns.barplot(\n",
    "    y=\"Year\",\n",
    "    x=\"Non-Regular Employment Rate (Youth) [%]\",\n",
    "    data=df,\n",
    "    palette=\"Purples\",\n",
    "    orient=\"h\"\n",
    ")\n",
    "plt.title(\"Non-Regular Employment Rate - Horizontal Bar Chart\")\n",
    "plt.xlabel(\"Rate (%)\")\n",
    "plt.ylabel(\"Year\")\n",
    "plt.tight_layout()\n",
    "# plt.savefig(\"chart8_non_regular_horizontal.png\")"
   ]
  }
 ],
 "metadata": {
  "kernelspec": {
   "display_name": "env",
   "language": "python",
   "name": "python3"
  },
  "language_info": {
   "codemirror_mode": {
    "name": "ipython",
    "version": 3
   },
   "file_extension": ".py",
   "mimetype": "text/x-python",
   "name": "python",
   "nbconvert_exporter": "python",
   "pygments_lexer": "ipython3",
   "version": "3.10.12"
  }
 },
 "nbformat": 4,
 "nbformat_minor": 5
}
